{
  "nbformat": 4,
  "nbformat_minor": 0,
  "metadata": {
    "colab": {
      "provenance": [],
      "authorship_tag": "ABX9TyPqlpb5d0836vKXnA1fYmc5",
      "include_colab_link": true
    },
    "kernelspec": {
      "name": "python3",
      "display_name": "Python 3"
    },
    "language_info": {
      "name": "python"
    }
  },
  "cells": [
    {
      "cell_type": "markdown",
      "metadata": {
        "id": "view-in-github",
        "colab_type": "text"
      },
      "source": [
        "<a href=\"https://colab.research.google.com/github/ShovalBenjer/deep_learning_neural_networks/blob/main/Deep_exc_1_adir_shoval.ipynb\" target=\"_parent\"><img src=\"https://colab.research.google.com/assets/colab-badge.svg\" alt=\"Open In Colab\"/></a>"
      ]
    },
    {
      "cell_type": "code",
      "execution_count": 7,
      "metadata": {
        "id": "tIs_bVMxKaYK",
        "outputId": "dfc8f216-18b7-4699-c03c-cca21be7d6bd",
        "colab": {
          "base_uri": "https://localhost:8080/"
        }
      },
      "outputs": [
        {
          "output_type": "stream",
          "name": "stdout",
          "text": [
            "Hidden Layer Weights: tensor([[ 20., -20.],\n",
            "        [-20.,  20.]])\n",
            "Hidden Layer Bias: tensor([-10., -10.])\n",
            "Output Layer Weights: tensor([[20., 20.]])\n",
            "Output Layer Bias: tensor([-30.])\n",
            "Loss: 2.0\n",
            "Truth Table:\n",
            "Input: [0.0, 0.0], Predicted Output: 0.0, Expected Output: 0.0\n",
            "Input: [0.0, 1.0], Predicted Output: 0.0, Expected Output: 1.0\n",
            "Input: [1.0, 0.0], Predicted Output: 0.0, Expected Output: 1.0\n",
            "Input: [1.0, 1.0], Predicted Output: 0.0, Expected Output: 0.0\n"
          ]
        }
      ],
      "source": [
        "import torch\n",
        "from torch import nn\n",
        "\n",
        "class NeuralNetXOR(nn.Module):\n",
        "    def __init__(self, k, bypass=False, T=0.001):\n",
        "        super(NeuralNetXOR, self).__init__()\n",
        "        self.bypass = bypass\n",
        "        self.hidden = nn.Linear(2, k)\n",
        "        self.output = nn.Linear(k, 1)\n",
        "        self.btu = lambda x: 1 / (1 + torch.exp(-x / T))\n",
        "        self.bypass_layer = nn.Linear(2, 1) if bypass else None\n",
        "\n",
        "    def weights_set(self, layer_name, w, b):\n",
        "        layer = getattr(self, layer_name)\n",
        "        if w.shape != layer.weight.data.shape or b.shape != layer.bias.data.shape:\n",
        "            raise ValueError(\"Input weight or bias shapes do not match layer dimensions.\")\n",
        "        with torch.no_grad():\n",
        "            layer.weight = nn.Parameter(w)\n",
        "            layer.bias = nn.Parameter(b)\n",
        "\n",
        "    def forward(self, x):\n",
        "        hidden_out = self.btu(self.hidden(x))\n",
        "        output_out = self.btu(self.output(hidden_out))\n",
        "        if self.bypass:\n",
        "            bypass_out = self.btu(self.bypass_layer(x))\n",
        "            return output_out + bypass_out\n",
        "        return output_out\n",
        "\n",
        "def loss_fn(x, y, model):\n",
        "    y_pred = model(x)\n",
        "    return torch.sum((y - y_pred) ** 2)\n",
        "\n",
        "x = torch.FloatTensor([[0., 0.], [0., 1.], [1., 0.], [1., 1.]])\n",
        "y = torch.FloatTensor([[0.], [1.], [1.], [0.]])\n",
        "\n",
        "model = NeuralNetXOR(k=2, bypass=False, T=0.001)\n",
        "\n",
        "model.weights_set(\"hidden\", torch.tensor([[20., -20.], [-20., 20.]]), torch.tensor([-10., -10.]))\n",
        "model.weights_set(\"output\", torch.tensor([[20., 20.]]), torch.tensor([-30.]))\n",
        "\n",
        "if model.bypass:\n",
        "    model.weights_set(\"bypass_layer\", torch.tensor([[0., 0.]]), torch.tensor([0.]))\n",
        "\n",
        "hidden_weights = model.hidden.weight.data\n",
        "hidden_bias = model.hidden.bias.data\n",
        "output_weights = model.output.weight.data\n",
        "output_bias = model.output.bias.data\n",
        "\n",
        "print(\"Hidden Layer Weights:\", hidden_weights)\n",
        "print(\"Hidden Layer Bias:\", hidden_bias)\n",
        "print(\"Output Layer Weights:\", output_weights)\n",
        "print(\"Output Layer Bias:\", output_bias)\n",
        "\n",
        "y_pred = model(x)\n",
        "loss = loss_fn(x, y, model)\n",
        "print(\"Loss:\", loss.item())\n",
        "print(\"Truth Table:\")\n",
        "for i in range(len(x)):\n",
        "    print(f\"Input: {x[i].tolist()}, Predicted Output: {y_pred[i].item()}, Expected Output: {y[i].item()}\")\n"
      ]
    }
  ]
}