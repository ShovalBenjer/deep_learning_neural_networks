{
  "nbformat": 4,
  "nbformat_minor": 0,
  "metadata": {
    "colab": {
      "provenance": [],
      "authorship_tag": "ABX9TyO8nRNdnUCRXVsAtZDs2OcV",
      "include_colab_link": true
    },
    "kernelspec": {
      "name": "python3",
      "display_name": "Python 3"
    },
    "language_info": {
      "name": "python"
    }
  },
  "cells": [
    {
      "cell_type": "markdown",
      "metadata": {
        "id": "view-in-github",
        "colab_type": "text"
      },
      "source": [
        "<a href=\"https://colab.research.google.com/github/ShovalBenjer/deep_learning_neural_networks/blob/main/Deep_exc_2_adir_shoval.ipynb\" target=\"_parent\"><img src=\"https://colab.research.google.com/assets/colab-badge.svg\" alt=\"Open In Colab\"/></a>"
      ]
    },
    {
      "cell_type": "markdown",
      "source": [
        "# **TL;DR:**\n",
        "\n",
        "**Collaborators: Shoval Benjer 319037404, Adir Amar 209017755**"
      ],
      "metadata": {
        "id": "4v5p7MnNcqZu"
      }
    },
    {
      "cell_type": "markdown",
      "source": [
        "# **setup:**\n",
        "\n",
        "\n",
        "To run this code, you'll need the following requirements:\n",
        "\n",
        "Python 3.x\n",
        "\n",
        "PyTorch\n",
        "\n",
        "NumPy\n",
        "\n",
        "Pandas\n",
        "\n",
        "You can install these requirements using pip:\n",
        "\n",
        "`!pip install torch numpy pandas`\n",
        "\n",
        "To run the code:\n",
        "\n",
        "1. Copy the provided code into a Python file (e.g., xor_network.py)\n",
        "2. Run the file using Python:\n",
        "`python xor_network.py`\n",
        "\n",
        "If you need to run this in VLab:\n",
        "Log in to your VLab account\n",
        "Open a terminal\n",
        "**Ensure the required packages are installed** (use the pip command above if needed)\n",
        "Navigate to the directory containing your Python file\n",
        "Run the file using Python as described above\n",
        "The code will automatically run experiments for k=1 (with bypass), k=2, and k=4, displaying the weights, biases, loss values, and truth tables for each configuration.\n",
        "\n",
        "Note: The code uses a low temperature (0.001) for the BTU/sigmoid function as requested in the assignment. No additional setup is required beyond having the necessary Python packages installed."
      ],
      "metadata": {
        "id": "IQg-LYwlx0cR"
      }
    },
    {
      "cell_type": "code",
      "source": [
        "!pip install torch seaborn matplotlib"
      ],
      "metadata": {
        "id": "oc494TvfoKhw"
      },
      "execution_count": null,
      "outputs": []
    },
    {
      "cell_type": "code",
      "source": [
        "import torch\n",
        "import torch.nn as nn\n",
        "import numpy as np\n",
        "import matplotlib.pyplot as plt\n",
        "import pandas as pd"
      ],
      "metadata": {
        "id": "Pn4So9pxnDnL"
      },
      "execution_count": null,
      "outputs": []
    }
  ]
}